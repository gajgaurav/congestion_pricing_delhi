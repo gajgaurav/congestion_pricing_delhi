{
 "cells": [
  {
   "cell_type": "code",
   "execution_count": 1,
   "id": "185d85f9-ff69-4673-9ca0-6b2f317f6377",
   "metadata": {},
   "outputs": [
    {
     "name": "stdout",
     "output_type": "stream",
     "text": [
      "Note: you may need to restart the kernel to use updated packages.\n"
     ]
    }
   ],
   "source": [
    "pip install -q osmnx matplotlib networkx"
   ]
  },
  {
   "cell_type": "code",
   "execution_count": 2,
   "id": "cc0ca978-7503-48d1-a773-e05623015378",
   "metadata": {},
   "outputs": [],
   "source": [
    "import osmnx as ox\n",
    "import matplotlib.pyplot as plt\n",
    "import pandas as pd\n",
    "import networkx as nx\n",
    "import os"
   ]
  },
  {
   "cell_type": "code",
   "execution_count": 4,
   "id": "88049cd7-cdbe-478d-9480-54fb157b37cb",
   "metadata": {},
   "outputs": [
    {
     "name": "stdout",
     "output_type": "stream",
     "text": [
      "MultiDiGraph with 183017 nodes and 498307 edges\n"
     ]
    }
   ],
   "source": [
    "# Download the driveable road network of Delhi\n",
    "G = ox.graph_from_place(\"Delhi, India\", network_type = \"drive\")\n",
    "\n",
    "# Confirm basic graph info\n",
    "print(G)"
   ]
  },
  {
   "cell_type": "code",
   "execution_count": 5,
   "id": "fd2727a1-e127-4b2d-8dca-d2164cbf2f35",
   "metadata": {},
   "outputs": [
    {
     "name": "stdout",
     "output_type": "stream",
     "text": [
      "n: 183017\n",
      "m: 498307\n",
      "k_avg: 5.445472278531502\n",
      "edge_length_total: 32879248.486999903\n",
      "edge_length_avg: 65.98191172710779\n",
      "streets_per_node_avg: 2.8713234289710794\n",
      "streets_per_node_counts: {0: 0, 1: 27930, 2: 124, 3: 122609, 4: 32276, 5: 76, 6: 2}\n",
      "streets_per_node_proportions: {0: 0.0, 1: 0.15260877404831244, 2: 0.00067753268822022, 3: 0.6699323013709109, 4: 0.17635520197577273, 5: 0.00041526197019948964, 6: 1.0927946584197096e-05}\n",
      "intersection_count: 155087\n",
      "street_length_total: 18172296.67000064\n",
      "street_segment_count: 262463\n",
      "street_length_avg: 69.23755603647234\n",
      "circuity_avg: 1.036086529585051\n",
      "self_loop_proportion: 0.00027432438096036395\n"
     ]
    }
   ],
   "source": [
    "# Print basic statistics\n",
    "stats = ox.basic_stats(G)\n",
    "for k, v in stats.items():\n",
    "    print(f\"{k}: {v}\")"
   ]
  },
  {
   "cell_type": "code",
   "execution_count": 6,
   "id": "73b1339f-0457-42d9-934f-363ab475e007",
   "metadata": {},
   "outputs": [
    {
     "name": "stdout",
     "output_type": "stream",
     "text": [
      "Graph saved to: ../data/raw/delhi_graph.graphml\n"
     ]
    }
   ],
   "source": [
    "# Create output path\n",
    "output_path = \"../data/raw/delhi_graph.graphml\"\n",
    "os.makedirs(os.path.dirname(output_path), exist_ok = True)\n",
    "\n",
    "# Save the graph\n",
    "ox.save_graphml(G, filepath = output_path)\n",
    "print(\"Graph saved to:\", output_path)"
   ]
  },
  {
   "cell_type": "code",
   "execution_count": 8,
   "id": "e8081ab2-aeca-43ee-97e3-fbf6df98cee8",
   "metadata": {},
   "outputs": [],
   "source": [
    "fig, ax = ox.plot_graph(G, node_size = 2, edge_color = \"#FF5733\",\n",
    "                        edge_linewidth = 0.3, bgcolor = \"white\",\n",
    "                        save = True, filepath = \"../data/processed/delhi_network.png\",\n",
    "                        dpi = 500, show = False, close = True)"
   ]
  }
 ],
 "metadata": {
  "kernelspec": {
   "display_name": "Python 3 (ipykernel)",
   "language": "python",
   "name": "python3"
  },
  "language_info": {
   "codemirror_mode": {
    "name": "ipython",
    "version": 3
   },
   "file_extension": ".py",
   "mimetype": "text/x-python",
   "name": "python",
   "nbconvert_exporter": "python",
   "pygments_lexer": "ipython3",
   "version": "3.8.8"
  }
 },
 "nbformat": 4,
 "nbformat_minor": 5
}
